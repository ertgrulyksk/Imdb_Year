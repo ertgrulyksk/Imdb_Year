{
  "nbformat": 4,
  "nbformat_minor": 0,
  "metadata": {
    "colab": {
      "provenance": [],
      "authorship_tag": "ABX9TyOeEEkvG/b0vDJ2u6t8hVln",
      "include_colab_link": true
    },
    "kernelspec": {
      "name": "python3",
      "display_name": "Python 3"
    },
    "language_info": {
      "name": "python"
    }
  },
  "cells": [
    {
      "cell_type": "markdown",
      "metadata": {
        "id": "view-in-github",
        "colab_type": "text"
      },
      "source": [
        "<a href=\"https://colab.research.google.com/github/ertgrulyksk/Imdb_Year/blob/main/imdb_Year.ipynb\" target=\"_parent\"><img src=\"https://colab.research.google.com/assets/colab-badge.svg\" alt=\"Open In Colab\"/></a>"
      ]
    },
    {
      "cell_type": "code",
      "execution_count": null,
      "metadata": {
        "id": "TCZ7Q9zH6G9M"
      },
      "outputs": [],
      "source": [
        "import pandas as pd\n",
        "import numpy as np\n",
        "import matplotlib.pyplot as plt"
      ]
    },
    {
      "cell_type": "code",
      "source": [
        "imdb=pd.read_csv('data.tsv',sep=\"\\t\")"
      ],
      "metadata": {
        "id": "7QoUSbu-6MUd"
      },
      "execution_count": null,
      "outputs": []
    },
    {
      "cell_type": "code",
      "source": [
        "imdb.head(3)"
      ],
      "metadata": {
        "id": "xjArozqR6Mf5"
      },
      "execution_count": null,
      "outputs": []
    },
    {
      "cell_type": "code",
      "source": [
        "imdb['adet']=1"
      ],
      "metadata": {
        "id": "VOK5ZXV36Mi2"
      },
      "execution_count": null,
      "outputs": []
    },
    {
      "cell_type": "code",
      "source": [
        "imdb.head(3)"
      ],
      "metadata": {
        "id": "K-Rdrp-06MmD"
      },
      "execution_count": null,
      "outputs": []
    },
    {
      "cell_type": "code",
      "source": [
        "adetdf=imdb.groupby(\"startYear\").sum()"
      ],
      "metadata": {
        "id": "a5NlV0AN6Mo8"
      },
      "execution_count": null,
      "outputs": []
    },
    {
      "cell_type": "code",
      "source": [
        "adetdf.head(3)"
      ],
      "metadata": {
        "id": "1DoNIGCW6Mry"
      },
      "execution_count": null,
      "outputs": []
    },
    {
      "cell_type": "code",
      "source": [
        "adetdf=adetdf.reset_index()"
      ],
      "metadata": {
        "id": "RhrBbdLM6Muh"
      },
      "execution_count": null,
      "outputs": []
    },
    {
      "cell_type": "code",
      "source": [
        "adetdf.head(3)"
      ],
      "metadata": {
        "id": "18f3p3M76Mxa"
      },
      "execution_count": null,
      "outputs": []
    },
    {
      "cell_type": "code",
      "source": [
        "adetdf=adetdf[:-1]"
      ],
      "metadata": {
        "id": "cp16huFY6M0C"
      },
      "execution_count": null,
      "outputs": []
    },
    {
      "cell_type": "code",
      "source": [
        "adetdf['startYear']=pd.to_datetime(adetdf['startYear'])"
      ],
      "metadata": {
        "id": "WyZbviiq6M3j"
      },
      "execution_count": null,
      "outputs": []
    },
    {
      "cell_type": "code",
      "source": [
        "adetdf.head()"
      ],
      "metadata": {
        "id": "cis2DXC26mEF"
      },
      "execution_count": null,
      "outputs": []
    },
    {
      "cell_type": "code",
      "source": [
        "plt.figure(figsize=(16,6))\n",
        "plt.plot(adetdf['startYear'],adetdf['adet'])\n",
        "\n",
        "plt.show()"
      ],
      "metadata": {
        "id": "S0wQtXK36mLO"
      },
      "execution_count": null,
      "outputs": []
    }
  ]
}